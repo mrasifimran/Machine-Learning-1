{
  "nbformat": 4,
  "nbformat_minor": 0,
  "metadata": {
    "colab": {
      "provenance": [],
      "authorship_tag": "ABX9TyNIhH7mQSd296hR7zFSucQi",
      "include_colab_link": true
    },
    "kernelspec": {
      "name": "python3",
      "display_name": "Python 3"
    },
    "language_info": {
      "name": "python"
    }
  },
  "cells": [
    {
      "cell_type": "markdown",
      "metadata": {
        "id": "view-in-github",
        "colab_type": "text"
      },
      "source": [
        "<a href=\"https://colab.research.google.com/github/mrasifimran/Pythoncode/blob/main/Classification_with_ML_Predict_Crime_Category.ipynb\" target=\"_parent\"><img src=\"https://colab.research.google.com/assets/colab-badge.svg\" alt=\"Open In Colab\"/></a>"
      ]
    },
    {
      "cell_type": "code",
      "execution_count": null,
      "metadata": {
        "id": "0YMizMJ7ZRjN"
      },
      "outputs": [],
      "source": [
        "# 1. Import Libraries\n",
        "# Visualization Libraries\n",
        "import matplotlib\n",
        "import matplotlib.pyplot as plt\n",
        "import seaborn as sns\n",
        "\n",
        "#Preprocessing Libraries\n",
        "import pandas as pd\n",
        "from sklearn.model_selection import train_test_split\n",
        "from sklearn.metrics import precision_score, recall_score, confusion_matrix, classification_report, accuracy_score, f1_score\n",
        "\n",
        "# ML Libraries\n",
        "from sklearn.ensemble import RandomForestClassifier,VotingClassifier\n",
        "from sklearn.neighbors import KNeighborsClassifier\n",
        "from sklearn.neural_network import MLPClassifier\n",
        "from sklearn.naive_bayes import GaussianNB\n",
        "\n",
        "# Evaluation Metrics\n",
        "from yellowbrick.classifier import ClassificationReport\n",
        "from sklearn import metrics"
      ]
    },
    {
      "cell_type": "code",
      "source": [
        "# Read dataset and display first 5 row\n",
        "df = pd.read_csv('/content/crime_data_bangladesh.csv', error_bad_lines=False)\n",
        "df.head(5)"
      ],
      "metadata": {
        "colab": {
          "base_uri": "https://localhost:8080/",
          "height": 426
        },
        "id": "B_b0xKUZZhBK",
        "outputId": "13044a5b-a0c2-4831-f400-14c0ae9a6702"
      },
      "execution_count": null,
      "outputs": [
        {
          "output_type": "stream",
          "name": "stderr",
          "text": [
            "<ipython-input-4-4ed1032b08ac>:2: FutureWarning: The error_bad_lines argument has been deprecated and will be removed in a future version. Use on_bad_lines in the future.\n",
            "\n",
            "\n",
            "  df = pd.read_csv('/content/crime_data_bangladesh.csv', error_bad_lines=False)\n"
          ]
        },
        {
          "output_type": "execute_result",
          "data": {
            "text/plain": [
              "                 area_name  year  dacoity  robbery   murder  speedy_trial  \\\n",
              "0       dhaka metropolitan  2010       47       220     245           363   \n",
              "1  chittagong metropolitan  2010       16       108      94            31   \n",
              "2      khulna metropolitan  2010        3         9      29            25   \n",
              "3    rajshahi metropolitan  2010        4        20      21             9   \n",
              "4     barisal metropolitan  2010        8        12      19            21   \n",
              "\n",
              "   riot   woman_child_Repression  kidnapping  police_assault  burglary  theft  \\\n",
              "0      3                    1370         139             155       555   1915   \n",
              "1      7                     455          37              31       123    314   \n",
              "2      0                     153          11               4        65     91   \n",
              "3     15                     157           9              12        53    106   \n",
              "4      0                     112           6               8        24     83   \n",
              "\n",
              "   other_cases  recovery_cases_arms_act  recovery_cases_explosive  \\\n",
              "0         7228                      518                        82   \n",
              "1         1831                       51                         0   \n",
              "2          551                       19                         2   \n",
              "3          578                        3                         4   \n",
              "4          557                       17                         0   \n",
              "\n",
              "   recovery_cases_narcotics  recovery_cases_smuggling  \n",
              "0                     10535                       144  \n",
              "1                       866                        99  \n",
              "2                       792                        13  \n",
              "3                       332                       248  \n",
              "4                       155                       117  "
            ],
            "text/html": [
              "\n",
              "  <div id=\"df-a1a39eaa-aefa-4482-94fc-38e55f962f41\">\n",
              "    <div class=\"colab-df-container\">\n",
              "      <div>\n",
              "<style scoped>\n",
              "    .dataframe tbody tr th:only-of-type {\n",
              "        vertical-align: middle;\n",
              "    }\n",
              "\n",
              "    .dataframe tbody tr th {\n",
              "        vertical-align: top;\n",
              "    }\n",
              "\n",
              "    .dataframe thead th {\n",
              "        text-align: right;\n",
              "    }\n",
              "</style>\n",
              "<table border=\"1\" class=\"dataframe\">\n",
              "  <thead>\n",
              "    <tr style=\"text-align: right;\">\n",
              "      <th></th>\n",
              "      <th>area_name</th>\n",
              "      <th>year</th>\n",
              "      <th>dacoity</th>\n",
              "      <th>robbery</th>\n",
              "      <th>murder</th>\n",
              "      <th>speedy_trial</th>\n",
              "      <th>riot</th>\n",
              "      <th>woman_child_Repression</th>\n",
              "      <th>kidnapping</th>\n",
              "      <th>police_assault</th>\n",
              "      <th>burglary</th>\n",
              "      <th>theft</th>\n",
              "      <th>other_cases</th>\n",
              "      <th>recovery_cases_arms_act</th>\n",
              "      <th>recovery_cases_explosive</th>\n",
              "      <th>recovery_cases_narcotics</th>\n",
              "      <th>recovery_cases_smuggling</th>\n",
              "    </tr>\n",
              "  </thead>\n",
              "  <tbody>\n",
              "    <tr>\n",
              "      <th>0</th>\n",
              "      <td>dhaka metropolitan</td>\n",
              "      <td>2010</td>\n",
              "      <td>47</td>\n",
              "      <td>220</td>\n",
              "      <td>245</td>\n",
              "      <td>363</td>\n",
              "      <td>3</td>\n",
              "      <td>1370</td>\n",
              "      <td>139</td>\n",
              "      <td>155</td>\n",
              "      <td>555</td>\n",
              "      <td>1915</td>\n",
              "      <td>7228</td>\n",
              "      <td>518</td>\n",
              "      <td>82</td>\n",
              "      <td>10535</td>\n",
              "      <td>144</td>\n",
              "    </tr>\n",
              "    <tr>\n",
              "      <th>1</th>\n",
              "      <td>chittagong metropolitan</td>\n",
              "      <td>2010</td>\n",
              "      <td>16</td>\n",
              "      <td>108</td>\n",
              "      <td>94</td>\n",
              "      <td>31</td>\n",
              "      <td>7</td>\n",
              "      <td>455</td>\n",
              "      <td>37</td>\n",
              "      <td>31</td>\n",
              "      <td>123</td>\n",
              "      <td>314</td>\n",
              "      <td>1831</td>\n",
              "      <td>51</td>\n",
              "      <td>0</td>\n",
              "      <td>866</td>\n",
              "      <td>99</td>\n",
              "    </tr>\n",
              "    <tr>\n",
              "      <th>2</th>\n",
              "      <td>khulna metropolitan</td>\n",
              "      <td>2010</td>\n",
              "      <td>3</td>\n",
              "      <td>9</td>\n",
              "      <td>29</td>\n",
              "      <td>25</td>\n",
              "      <td>0</td>\n",
              "      <td>153</td>\n",
              "      <td>11</td>\n",
              "      <td>4</td>\n",
              "      <td>65</td>\n",
              "      <td>91</td>\n",
              "      <td>551</td>\n",
              "      <td>19</td>\n",
              "      <td>2</td>\n",
              "      <td>792</td>\n",
              "      <td>13</td>\n",
              "    </tr>\n",
              "    <tr>\n",
              "      <th>3</th>\n",
              "      <td>rajshahi metropolitan</td>\n",
              "      <td>2010</td>\n",
              "      <td>4</td>\n",
              "      <td>20</td>\n",
              "      <td>21</td>\n",
              "      <td>9</td>\n",
              "      <td>15</td>\n",
              "      <td>157</td>\n",
              "      <td>9</td>\n",
              "      <td>12</td>\n",
              "      <td>53</td>\n",
              "      <td>106</td>\n",
              "      <td>578</td>\n",
              "      <td>3</td>\n",
              "      <td>4</td>\n",
              "      <td>332</td>\n",
              "      <td>248</td>\n",
              "    </tr>\n",
              "    <tr>\n",
              "      <th>4</th>\n",
              "      <td>barisal metropolitan</td>\n",
              "      <td>2010</td>\n",
              "      <td>8</td>\n",
              "      <td>12</td>\n",
              "      <td>19</td>\n",
              "      <td>21</td>\n",
              "      <td>0</td>\n",
              "      <td>112</td>\n",
              "      <td>6</td>\n",
              "      <td>8</td>\n",
              "      <td>24</td>\n",
              "      <td>83</td>\n",
              "      <td>557</td>\n",
              "      <td>17</td>\n",
              "      <td>0</td>\n",
              "      <td>155</td>\n",
              "      <td>117</td>\n",
              "    </tr>\n",
              "  </tbody>\n",
              "</table>\n",
              "</div>\n",
              "      <button class=\"colab-df-convert\" onclick=\"convertToInteractive('df-a1a39eaa-aefa-4482-94fc-38e55f962f41')\"\n",
              "              title=\"Convert this dataframe to an interactive table.\"\n",
              "              style=\"display:none;\">\n",
              "        \n",
              "  <svg xmlns=\"http://www.w3.org/2000/svg\" height=\"24px\"viewBox=\"0 0 24 24\"\n",
              "       width=\"24px\">\n",
              "    <path d=\"M0 0h24v24H0V0z\" fill=\"none\"/>\n",
              "    <path d=\"M18.56 5.44l.94 2.06.94-2.06 2.06-.94-2.06-.94-.94-2.06-.94 2.06-2.06.94zm-11 1L8.5 8.5l.94-2.06 2.06-.94-2.06-.94L8.5 2.5l-.94 2.06-2.06.94zm10 10l.94 2.06.94-2.06 2.06-.94-2.06-.94-.94-2.06-.94 2.06-2.06.94z\"/><path d=\"M17.41 7.96l-1.37-1.37c-.4-.4-.92-.59-1.43-.59-.52 0-1.04.2-1.43.59L10.3 9.45l-7.72 7.72c-.78.78-.78 2.05 0 2.83L4 21.41c.39.39.9.59 1.41.59.51 0 1.02-.2 1.41-.59l7.78-7.78 2.81-2.81c.8-.78.8-2.07 0-2.86zM5.41 20L4 18.59l7.72-7.72 1.47 1.35L5.41 20z\"/>\n",
              "  </svg>\n",
              "      </button>\n",
              "      \n",
              "  <style>\n",
              "    .colab-df-container {\n",
              "      display:flex;\n",
              "      flex-wrap:wrap;\n",
              "      gap: 12px;\n",
              "    }\n",
              "\n",
              "    .colab-df-convert {\n",
              "      background-color: #E8F0FE;\n",
              "      border: none;\n",
              "      border-radius: 50%;\n",
              "      cursor: pointer;\n",
              "      display: none;\n",
              "      fill: #1967D2;\n",
              "      height: 32px;\n",
              "      padding: 0 0 0 0;\n",
              "      width: 32px;\n",
              "    }\n",
              "\n",
              "    .colab-df-convert:hover {\n",
              "      background-color: #E2EBFA;\n",
              "      box-shadow: 0px 1px 2px rgba(60, 64, 67, 0.3), 0px 1px 3px 1px rgba(60, 64, 67, 0.15);\n",
              "      fill: #174EA6;\n",
              "    }\n",
              "\n",
              "    [theme=dark] .colab-df-convert {\n",
              "      background-color: #3B4455;\n",
              "      fill: #D2E3FC;\n",
              "    }\n",
              "\n",
              "    [theme=dark] .colab-df-convert:hover {\n",
              "      background-color: #434B5C;\n",
              "      box-shadow: 0px 1px 3px 1px rgba(0, 0, 0, 0.15);\n",
              "      filter: drop-shadow(0px 1px 2px rgba(0, 0, 0, 0.3));\n",
              "      fill: #FFFFFF;\n",
              "    }\n",
              "  </style>\n",
              "\n",
              "      <script>\n",
              "        const buttonEl =\n",
              "          document.querySelector('#df-a1a39eaa-aefa-4482-94fc-38e55f962f41 button.colab-df-convert');\n",
              "        buttonEl.style.display =\n",
              "          google.colab.kernel.accessAllowed ? 'block' : 'none';\n",
              "\n",
              "        async function convertToInteractive(key) {\n",
              "          const element = document.querySelector('#df-a1a39eaa-aefa-4482-94fc-38e55f962f41');\n",
              "          const dataTable =\n",
              "            await google.colab.kernel.invokeFunction('convertToInteractive',\n",
              "                                                     [key], {});\n",
              "          if (!dataTable) return;\n",
              "\n",
              "          const docLinkHtml = 'Like what you see? Visit the ' +\n",
              "            '<a target=\"_blank\" href=https://colab.research.google.com/notebooks/data_table.ipynb>data table notebook</a>'\n",
              "            + ' to learn more about interactive tables.';\n",
              "          element.innerHTML = '';\n",
              "          dataTable['output_type'] = 'display_data';\n",
              "          await google.colab.output.renderOutput(dataTable, element);\n",
              "          const docLink = document.createElement('div');\n",
              "          docLink.innerHTML = docLinkHtml;\n",
              "          element.appendChild(docLink);\n",
              "        }\n",
              "      </script>\n",
              "    </div>\n",
              "  </div>\n",
              "  "
            ]
          },
          "metadata": {},
          "execution_count": 4
        }
      ]
    },
    {
      "cell_type": "code",
      "source": [
        "# 2. Preliminary Analysis\n",
        "df.info()"
      ],
      "metadata": {
        "colab": {
          "base_uri": "https://localhost:8080/"
        },
        "id": "hT_O3Io-ZhDh",
        "outputId": "ecf975a8-42bf-4d03-c57e-db9dbbd1eb20"
      },
      "execution_count": null,
      "outputs": [
        {
          "output_type": "stream",
          "name": "stdout",
          "text": [
            "<class 'pandas.core.frame.DataFrame'>\n",
            "RangeIndex: 146 entries, 0 to 145\n",
            "Data columns (total 17 columns):\n",
            " #   Column                    Non-Null Count  Dtype \n",
            "---  ------                    --------------  ----- \n",
            " 0   area_name                 146 non-null    object\n",
            " 1   year                      146 non-null    int64 \n",
            " 2   dacoity                   146 non-null    int64 \n",
            " 3   robbery                   146 non-null    int64 \n",
            " 4   murder                    146 non-null    int64 \n",
            " 5   speedy_trial              146 non-null    int64 \n",
            " 6   riot                      146 non-null    int64 \n",
            " 7   woman_child_Repression    146 non-null    int64 \n",
            " 8   kidnapping                146 non-null    int64 \n",
            " 9   police_assault            146 non-null    int64 \n",
            " 10  burglary                  146 non-null    int64 \n",
            " 11  theft                     146 non-null    int64 \n",
            " 12  other_cases               146 non-null    int64 \n",
            " 13  recovery_cases_arms_act   146 non-null    int64 \n",
            " 14  recovery_cases_explosive  146 non-null    int64 \n",
            " 15  recovery_cases_narcotics  146 non-null    int64 \n",
            " 16  recovery_cases_smuggling  146 non-null    int64 \n",
            "dtypes: int64(16), object(1)\n",
            "memory usage: 19.5+ KB\n"
          ]
        }
      ]
    },
    {
      "cell_type": "code",
      "source": [
        "# 3. Data Preparation\n",
        "# Remove irrelevant/not meaningfull attributes\n",
        "df = df.drop(['area_name'], axis=1)\n",
        "df = df.drop(['year'], axis=1)\n",
        "\n",
        "df.info()"
      ],
      "metadata": {
        "colab": {
          "base_uri": "https://localhost:8080/"
        },
        "id": "sjVFufIiZhF_",
        "outputId": "1f97505b-4b90-4f2c-e316-3e3a2442e7d8"
      },
      "execution_count": null,
      "outputs": [
        {
          "output_type": "stream",
          "name": "stdout",
          "text": [
            "<class 'pandas.core.frame.DataFrame'>\n",
            "RangeIndex: 146 entries, 0 to 145\n",
            "Data columns (total 15 columns):\n",
            " #   Column                    Non-Null Count  Dtype\n",
            "---  ------                    --------------  -----\n",
            " 0   dacoity                   146 non-null    int64\n",
            " 1   robbery                   146 non-null    int64\n",
            " 2   murder                    146 non-null    int64\n",
            " 3   speedy_trial              146 non-null    int64\n",
            " 4   riot                      146 non-null    int64\n",
            " 5   woman_child_Repression    146 non-null    int64\n",
            " 6   kidnapping                146 non-null    int64\n",
            " 7   police_assault            146 non-null    int64\n",
            " 8   burglary                  146 non-null    int64\n",
            " 9   theft                     146 non-null    int64\n",
            " 10  other_cases               146 non-null    int64\n",
            " 11  recovery_cases_arms_act   146 non-null    int64\n",
            " 12  recovery_cases_explosive  146 non-null    int64\n",
            " 13  recovery_cases_narcotics  146 non-null    int64\n",
            " 14  recovery_cases_smuggling  146 non-null    int64\n",
            "dtypes: int64(15)\n",
            "memory usage: 17.2 KB\n"
          ]
        }
      ]
    },
    {
      "cell_type": "code",
      "source": [
        "# Splitting the Date to Day, Month, Year, Hour, Minute, Second\n",
        "df['date2'] = pd.to_datetime(df['Dates'])\n",
        "df['Year'] = df['date2'].dt.year\n",
        "df['Month'] = df['date2'].dt.month\n",
        "df['Day'] = df['date2'].dt.day\n",
        "df['Hour'] = df['date2'].dt.hour\n",
        "df['Minute'] = df['date2'].dt.minute\n",
        "df['Second'] = df['date2'].dt.second\n",
        "df = df.drop(['Dates'], axis=1)\n",
        "df = df.drop(['date2'], axis=1)\n",
        "df.head(5)"
      ],
      "metadata": {
        "id": "fvwFSgIhZhKH"
      },
      "execution_count": null,
      "outputs": []
    },
    {
      "cell_type": "code",
      "source": [
        "# Convert Categorical Attributes to Numerical\n",
        "df['PdDistrict'] = pd.factorize(df[\"PdDistrict\"])[0]\n",
        "df['Address'] = pd.factorize(df[\"Address\"])[0]\n",
        "df['DayOfWeek'] = pd.factorize(df[\"DayOfWeek\"])[0]\n",
        "df['Year'] = pd.factorize(df[\"Year\"])[0]\n",
        "df['Month'] = pd.factorize(df[\"Month\"])[0]\n",
        "df['Day'] = pd.factorize(df[\"Day\"])[0]\n",
        "df['Hour'] = pd.factorize(df[\"Hour\"])[0]\n",
        "df['Minute'] = pd.factorize(df[\"Minute\"])[0]\n",
        "df['Second'] = pd.factorize(df[\"Second\"])[0]\n",
        "df.head(5)"
      ],
      "metadata": {
        "id": "XK7bjS0GZhMp"
      },
      "execution_count": null,
      "outputs": []
    },
    {
      "cell_type": "code",
      "source": [
        "# Display targer class\n",
        "Target = 'Category'\n",
        "print('Target: ', Target)"
      ],
      "metadata": {
        "colab": {
          "base_uri": "https://localhost:8080/"
        },
        "id": "0gdqp49aZhPU",
        "outputId": "514b156e-f57a-41ac-ee5a-947629f4460f"
      },
      "execution_count": null,
      "outputs": [
        {
          "output_type": "stream",
          "name": "stdout",
          "text": [
            "Target:  Category\n"
          ]
        }
      ]
    },
    {
      "cell_type": "code",
      "source": [
        "# Plot Bar Chart visualize Crime Types\n",
        "plt.figure(figsize=(14,10))\n",
        "plt.title('Amount of Crimes by Category')\n",
        "plt.ylabel('Crime Category')\n",
        "plt.xlabel('Amount of Crimes')\n",
        "\n",
        "df.groupby([df['Category']]).size().sort_values(ascending=True).plot(kind='barh')\n",
        "\n",
        "plt.show()"
      ],
      "metadata": {
        "id": "ANQXZdMsZhR7"
      },
      "execution_count": null,
      "outputs": []
    },
    {
      "cell_type": "code",
      "source": [
        "# Display all unique classes\n",
        "Classes = df['Category'].unique()\n",
        "Classes"
      ],
      "metadata": {
        "id": "mfPFN_eYZhUz"
      },
      "execution_count": null,
      "outputs": []
    },
    {
      "cell_type": "code",
      "source": [
        "#Encode target labels into categorical variables:\n",
        "df['Category'] = pd.factorize(df[\"Category\"])[0]\n",
        "df['Category'].unique()"
      ],
      "metadata": {
        "colab": {
          "base_uri": "https://localhost:8080/",
          "height": 502
        },
        "id": "ZHhqF7S5ZhYb",
        "outputId": "64c0756b-9919-4e88-ad28-0ac66d371f2f"
      },
      "execution_count": null,
      "outputs": [
        {
          "output_type": "error",
          "ename": "KeyError",
          "evalue": "ignored",
          "traceback": [
            "\u001b[0;31m---------------------------------------------------------------------------\u001b[0m",
            "\u001b[0;31mKeyError\u001b[0m                                  Traceback (most recent call last)",
            "\u001b[0;32m/usr/local/lib/python3.10/dist-packages/pandas/core/indexes/base.py\u001b[0m in \u001b[0;36mget_loc\u001b[0;34m(self, key, method, tolerance)\u001b[0m\n\u001b[1;32m   3801\u001b[0m             \u001b[0;32mtry\u001b[0m\u001b[0;34m:\u001b[0m\u001b[0;34m\u001b[0m\u001b[0;34m\u001b[0m\u001b[0m\n\u001b[0;32m-> 3802\u001b[0;31m                 \u001b[0;32mreturn\u001b[0m \u001b[0mself\u001b[0m\u001b[0;34m.\u001b[0m\u001b[0m_engine\u001b[0m\u001b[0;34m.\u001b[0m\u001b[0mget_loc\u001b[0m\u001b[0;34m(\u001b[0m\u001b[0mcasted_key\u001b[0m\u001b[0;34m)\u001b[0m\u001b[0;34m\u001b[0m\u001b[0;34m\u001b[0m\u001b[0m\n\u001b[0m\u001b[1;32m   3803\u001b[0m             \u001b[0;32mexcept\u001b[0m \u001b[0mKeyError\u001b[0m \u001b[0;32mas\u001b[0m \u001b[0merr\u001b[0m\u001b[0;34m:\u001b[0m\u001b[0;34m\u001b[0m\u001b[0;34m\u001b[0m\u001b[0m\n",
            "\u001b[0;32m/usr/local/lib/python3.10/dist-packages/pandas/_libs/index.pyx\u001b[0m in \u001b[0;36mpandas._libs.index.IndexEngine.get_loc\u001b[0;34m()\u001b[0m\n",
            "\u001b[0;32m/usr/local/lib/python3.10/dist-packages/pandas/_libs/index.pyx\u001b[0m in \u001b[0;36mpandas._libs.index.IndexEngine.get_loc\u001b[0;34m()\u001b[0m\n",
            "\u001b[0;32mpandas/_libs/hashtable_class_helper.pxi\u001b[0m in \u001b[0;36mpandas._libs.hashtable.PyObjectHashTable.get_item\u001b[0;34m()\u001b[0m\n",
            "\u001b[0;32mpandas/_libs/hashtable_class_helper.pxi\u001b[0m in \u001b[0;36mpandas._libs.hashtable.PyObjectHashTable.get_item\u001b[0;34m()\u001b[0m\n",
            "\u001b[0;31mKeyError\u001b[0m: 'Category'",
            "\nThe above exception was the direct cause of the following exception:\n",
            "\u001b[0;31mKeyError\u001b[0m                                  Traceback (most recent call last)",
            "\u001b[0;32m<ipython-input-15-755e22ef6069>\u001b[0m in \u001b[0;36m<cell line: 2>\u001b[0;34m()\u001b[0m\n\u001b[1;32m      1\u001b[0m \u001b[0;31m#Encode target labels into categorical variables:\u001b[0m\u001b[0;34m\u001b[0m\u001b[0;34m\u001b[0m\u001b[0m\n\u001b[0;32m----> 2\u001b[0;31m \u001b[0mdf\u001b[0m\u001b[0;34m[\u001b[0m\u001b[0;34m'Category'\u001b[0m\u001b[0;34m]\u001b[0m \u001b[0;34m=\u001b[0m \u001b[0mpd\u001b[0m\u001b[0;34m.\u001b[0m\u001b[0mfactorize\u001b[0m\u001b[0;34m(\u001b[0m\u001b[0mdf\u001b[0m\u001b[0;34m[\u001b[0m\u001b[0;34m\"Category\"\u001b[0m\u001b[0;34m]\u001b[0m\u001b[0;34m)\u001b[0m\u001b[0;34m[\u001b[0m\u001b[0;36m0\u001b[0m\u001b[0;34m]\u001b[0m\u001b[0;34m\u001b[0m\u001b[0;34m\u001b[0m\u001b[0m\n\u001b[0m\u001b[1;32m      3\u001b[0m \u001b[0mdf\u001b[0m\u001b[0;34m[\u001b[0m\u001b[0;34m'Category'\u001b[0m\u001b[0;34m]\u001b[0m\u001b[0;34m.\u001b[0m\u001b[0munique\u001b[0m\u001b[0;34m(\u001b[0m\u001b[0;34m)\u001b[0m\u001b[0;34m\u001b[0m\u001b[0;34m\u001b[0m\u001b[0m\n",
            "\u001b[0;32m/usr/local/lib/python3.10/dist-packages/pandas/core/frame.py\u001b[0m in \u001b[0;36m__getitem__\u001b[0;34m(self, key)\u001b[0m\n\u001b[1;32m   3805\u001b[0m             \u001b[0;32mif\u001b[0m \u001b[0mself\u001b[0m\u001b[0;34m.\u001b[0m\u001b[0mcolumns\u001b[0m\u001b[0;34m.\u001b[0m\u001b[0mnlevels\u001b[0m \u001b[0;34m>\u001b[0m \u001b[0;36m1\u001b[0m\u001b[0;34m:\u001b[0m\u001b[0;34m\u001b[0m\u001b[0;34m\u001b[0m\u001b[0m\n\u001b[1;32m   3806\u001b[0m                 \u001b[0;32mreturn\u001b[0m \u001b[0mself\u001b[0m\u001b[0;34m.\u001b[0m\u001b[0m_getitem_multilevel\u001b[0m\u001b[0;34m(\u001b[0m\u001b[0mkey\u001b[0m\u001b[0;34m)\u001b[0m\u001b[0;34m\u001b[0m\u001b[0;34m\u001b[0m\u001b[0m\n\u001b[0;32m-> 3807\u001b[0;31m             \u001b[0mindexer\u001b[0m \u001b[0;34m=\u001b[0m \u001b[0mself\u001b[0m\u001b[0;34m.\u001b[0m\u001b[0mcolumns\u001b[0m\u001b[0;34m.\u001b[0m\u001b[0mget_loc\u001b[0m\u001b[0;34m(\u001b[0m\u001b[0mkey\u001b[0m\u001b[0;34m)\u001b[0m\u001b[0;34m\u001b[0m\u001b[0;34m\u001b[0m\u001b[0m\n\u001b[0m\u001b[1;32m   3808\u001b[0m             \u001b[0;32mif\u001b[0m \u001b[0mis_integer\u001b[0m\u001b[0;34m(\u001b[0m\u001b[0mindexer\u001b[0m\u001b[0;34m)\u001b[0m\u001b[0;34m:\u001b[0m\u001b[0;34m\u001b[0m\u001b[0;34m\u001b[0m\u001b[0m\n\u001b[1;32m   3809\u001b[0m                 \u001b[0mindexer\u001b[0m \u001b[0;34m=\u001b[0m \u001b[0;34m[\u001b[0m\u001b[0mindexer\u001b[0m\u001b[0;34m]\u001b[0m\u001b[0;34m\u001b[0m\u001b[0;34m\u001b[0m\u001b[0m\n",
            "\u001b[0;32m/usr/local/lib/python3.10/dist-packages/pandas/core/indexes/base.py\u001b[0m in \u001b[0;36mget_loc\u001b[0;34m(self, key, method, tolerance)\u001b[0m\n\u001b[1;32m   3802\u001b[0m                 \u001b[0;32mreturn\u001b[0m \u001b[0mself\u001b[0m\u001b[0;34m.\u001b[0m\u001b[0m_engine\u001b[0m\u001b[0;34m.\u001b[0m\u001b[0mget_loc\u001b[0m\u001b[0;34m(\u001b[0m\u001b[0mcasted_key\u001b[0m\u001b[0;34m)\u001b[0m\u001b[0;34m\u001b[0m\u001b[0;34m\u001b[0m\u001b[0m\n\u001b[1;32m   3803\u001b[0m             \u001b[0;32mexcept\u001b[0m \u001b[0mKeyError\u001b[0m \u001b[0;32mas\u001b[0m \u001b[0merr\u001b[0m\u001b[0;34m:\u001b[0m\u001b[0;34m\u001b[0m\u001b[0;34m\u001b[0m\u001b[0m\n\u001b[0;32m-> 3804\u001b[0;31m                 \u001b[0;32mraise\u001b[0m \u001b[0mKeyError\u001b[0m\u001b[0;34m(\u001b[0m\u001b[0mkey\u001b[0m\u001b[0;34m)\u001b[0m \u001b[0;32mfrom\u001b[0m \u001b[0merr\u001b[0m\u001b[0;34m\u001b[0m\u001b[0;34m\u001b[0m\u001b[0m\n\u001b[0m\u001b[1;32m   3805\u001b[0m             \u001b[0;32mexcept\u001b[0m \u001b[0mTypeError\u001b[0m\u001b[0;34m:\u001b[0m\u001b[0;34m\u001b[0m\u001b[0;34m\u001b[0m\u001b[0m\n\u001b[1;32m   3806\u001b[0m                 \u001b[0;31m# If we have a listlike key, _check_indexing_error will raise\u001b[0m\u001b[0;34m\u001b[0m\u001b[0;34m\u001b[0m\u001b[0m\n",
            "\u001b[0;31mKeyError\u001b[0m: 'Category'"
          ]
        }
      ]
    },
    {
      "cell_type": "code",
      "source": [
        "# 4. Feature Selection using Filter Method\n",
        "# Split Dataframe to target class and features\n",
        "X_fs = df.drop(['Category'], axis=1)\n",
        "Y_fs = df['Category']\n",
        "\n",
        "#Using Pearson Correlation\n",
        "plt.figure(figsize=(20,10))\n",
        "cor = df.corr()\n",
        "sns.heatmap(cor, annot=True, cmap=plt.cm.Reds)\n",
        "plt.show()"
      ],
      "metadata": {
        "colab": {
          "base_uri": "https://localhost:8080/",
          "height": 380
        },
        "id": "HzDTuwWiZhaX",
        "outputId": "8fc3a19f-3d83-45f4-e783-a5ca00a6b9d0"
      },
      "execution_count": null,
      "outputs": [
        {
          "output_type": "error",
          "ename": "KeyError",
          "evalue": "ignored",
          "traceback": [
            "\u001b[0;31m---------------------------------------------------------------------------\u001b[0m",
            "\u001b[0;31mKeyError\u001b[0m                                  Traceback (most recent call last)",
            "\u001b[0;32m<ipython-input-16-56d8134c19c8>\u001b[0m in \u001b[0;36m<cell line: 3>\u001b[0;34m()\u001b[0m\n\u001b[1;32m      1\u001b[0m \u001b[0;31m# 4. Feature Selection using Filter Method\u001b[0m\u001b[0;34m\u001b[0m\u001b[0;34m\u001b[0m\u001b[0m\n\u001b[1;32m      2\u001b[0m \u001b[0;31m# Split Dataframe to target class and features\u001b[0m\u001b[0;34m\u001b[0m\u001b[0;34m\u001b[0m\u001b[0m\n\u001b[0;32m----> 3\u001b[0;31m \u001b[0mX_fs\u001b[0m \u001b[0;34m=\u001b[0m \u001b[0mdf\u001b[0m\u001b[0;34m.\u001b[0m\u001b[0mdrop\u001b[0m\u001b[0;34m(\u001b[0m\u001b[0;34m[\u001b[0m\u001b[0;34m'Category'\u001b[0m\u001b[0;34m]\u001b[0m\u001b[0;34m,\u001b[0m \u001b[0maxis\u001b[0m\u001b[0;34m=\u001b[0m\u001b[0;36m1\u001b[0m\u001b[0;34m)\u001b[0m\u001b[0;34m\u001b[0m\u001b[0;34m\u001b[0m\u001b[0m\n\u001b[0m\u001b[1;32m      4\u001b[0m \u001b[0mY_fs\u001b[0m \u001b[0;34m=\u001b[0m \u001b[0mdf\u001b[0m\u001b[0;34m[\u001b[0m\u001b[0;34m'Category'\u001b[0m\u001b[0;34m]\u001b[0m\u001b[0;34m\u001b[0m\u001b[0;34m\u001b[0m\u001b[0m\n\u001b[1;32m      5\u001b[0m \u001b[0;34m\u001b[0m\u001b[0m\n",
            "\u001b[0;32m/usr/local/lib/python3.10/dist-packages/pandas/util/_decorators.py\u001b[0m in \u001b[0;36mwrapper\u001b[0;34m(*args, **kwargs)\u001b[0m\n\u001b[1;32m    329\u001b[0m                     \u001b[0mstacklevel\u001b[0m\u001b[0;34m=\u001b[0m\u001b[0mfind_stack_level\u001b[0m\u001b[0;34m(\u001b[0m\u001b[0;34m)\u001b[0m\u001b[0;34m,\u001b[0m\u001b[0;34m\u001b[0m\u001b[0;34m\u001b[0m\u001b[0m\n\u001b[1;32m    330\u001b[0m                 )\n\u001b[0;32m--> 331\u001b[0;31m             \u001b[0;32mreturn\u001b[0m \u001b[0mfunc\u001b[0m\u001b[0;34m(\u001b[0m\u001b[0;34m*\u001b[0m\u001b[0margs\u001b[0m\u001b[0;34m,\u001b[0m \u001b[0;34m**\u001b[0m\u001b[0mkwargs\u001b[0m\u001b[0;34m)\u001b[0m\u001b[0;34m\u001b[0m\u001b[0;34m\u001b[0m\u001b[0m\n\u001b[0m\u001b[1;32m    332\u001b[0m \u001b[0;34m\u001b[0m\u001b[0m\n\u001b[1;32m    333\u001b[0m         \u001b[0;31m# error: \"Callable[[VarArg(Any), KwArg(Any)], Any]\" has no\u001b[0m\u001b[0;34m\u001b[0m\u001b[0;34m\u001b[0m\u001b[0m\n",
            "\u001b[0;32m/usr/local/lib/python3.10/dist-packages/pandas/core/frame.py\u001b[0m in \u001b[0;36mdrop\u001b[0;34m(self, labels, axis, index, columns, level, inplace, errors)\u001b[0m\n\u001b[1;32m   5397\u001b[0m                 \u001b[0mweight\u001b[0m  \u001b[0;36m1.0\u001b[0m     \u001b[0;36m0.8\u001b[0m\u001b[0;34m\u001b[0m\u001b[0;34m\u001b[0m\u001b[0m\n\u001b[1;32m   5398\u001b[0m         \"\"\"\n\u001b[0;32m-> 5399\u001b[0;31m         return super().drop(\n\u001b[0m\u001b[1;32m   5400\u001b[0m             \u001b[0mlabels\u001b[0m\u001b[0;34m=\u001b[0m\u001b[0mlabels\u001b[0m\u001b[0;34m,\u001b[0m\u001b[0;34m\u001b[0m\u001b[0;34m\u001b[0m\u001b[0m\n\u001b[1;32m   5401\u001b[0m             \u001b[0maxis\u001b[0m\u001b[0;34m=\u001b[0m\u001b[0maxis\u001b[0m\u001b[0;34m,\u001b[0m\u001b[0;34m\u001b[0m\u001b[0;34m\u001b[0m\u001b[0m\n",
            "\u001b[0;32m/usr/local/lib/python3.10/dist-packages/pandas/util/_decorators.py\u001b[0m in \u001b[0;36mwrapper\u001b[0;34m(*args, **kwargs)\u001b[0m\n\u001b[1;32m    329\u001b[0m                     \u001b[0mstacklevel\u001b[0m\u001b[0;34m=\u001b[0m\u001b[0mfind_stack_level\u001b[0m\u001b[0;34m(\u001b[0m\u001b[0;34m)\u001b[0m\u001b[0;34m,\u001b[0m\u001b[0;34m\u001b[0m\u001b[0;34m\u001b[0m\u001b[0m\n\u001b[1;32m    330\u001b[0m                 )\n\u001b[0;32m--> 331\u001b[0;31m             \u001b[0;32mreturn\u001b[0m \u001b[0mfunc\u001b[0m\u001b[0;34m(\u001b[0m\u001b[0;34m*\u001b[0m\u001b[0margs\u001b[0m\u001b[0;34m,\u001b[0m \u001b[0;34m**\u001b[0m\u001b[0mkwargs\u001b[0m\u001b[0;34m)\u001b[0m\u001b[0;34m\u001b[0m\u001b[0;34m\u001b[0m\u001b[0m\n\u001b[0m\u001b[1;32m    332\u001b[0m \u001b[0;34m\u001b[0m\u001b[0m\n\u001b[1;32m    333\u001b[0m         \u001b[0;31m# error: \"Callable[[VarArg(Any), KwArg(Any)], Any]\" has no\u001b[0m\u001b[0;34m\u001b[0m\u001b[0;34m\u001b[0m\u001b[0m\n",
            "\u001b[0;32m/usr/local/lib/python3.10/dist-packages/pandas/core/generic.py\u001b[0m in \u001b[0;36mdrop\u001b[0;34m(self, labels, axis, index, columns, level, inplace, errors)\u001b[0m\n\u001b[1;32m   4503\u001b[0m         \u001b[0;32mfor\u001b[0m \u001b[0maxis\u001b[0m\u001b[0;34m,\u001b[0m \u001b[0mlabels\u001b[0m \u001b[0;32min\u001b[0m \u001b[0maxes\u001b[0m\u001b[0;34m.\u001b[0m\u001b[0mitems\u001b[0m\u001b[0;34m(\u001b[0m\u001b[0;34m)\u001b[0m\u001b[0;34m:\u001b[0m\u001b[0;34m\u001b[0m\u001b[0;34m\u001b[0m\u001b[0m\n\u001b[1;32m   4504\u001b[0m             \u001b[0;32mif\u001b[0m \u001b[0mlabels\u001b[0m \u001b[0;32mis\u001b[0m \u001b[0;32mnot\u001b[0m \u001b[0;32mNone\u001b[0m\u001b[0;34m:\u001b[0m\u001b[0;34m\u001b[0m\u001b[0;34m\u001b[0m\u001b[0m\n\u001b[0;32m-> 4505\u001b[0;31m                 \u001b[0mobj\u001b[0m \u001b[0;34m=\u001b[0m \u001b[0mobj\u001b[0m\u001b[0;34m.\u001b[0m\u001b[0m_drop_axis\u001b[0m\u001b[0;34m(\u001b[0m\u001b[0mlabels\u001b[0m\u001b[0;34m,\u001b[0m \u001b[0maxis\u001b[0m\u001b[0;34m,\u001b[0m \u001b[0mlevel\u001b[0m\u001b[0;34m=\u001b[0m\u001b[0mlevel\u001b[0m\u001b[0;34m,\u001b[0m \u001b[0merrors\u001b[0m\u001b[0;34m=\u001b[0m\u001b[0merrors\u001b[0m\u001b[0;34m)\u001b[0m\u001b[0;34m\u001b[0m\u001b[0;34m\u001b[0m\u001b[0m\n\u001b[0m\u001b[1;32m   4506\u001b[0m \u001b[0;34m\u001b[0m\u001b[0m\n\u001b[1;32m   4507\u001b[0m         \u001b[0;32mif\u001b[0m \u001b[0minplace\u001b[0m\u001b[0;34m:\u001b[0m\u001b[0;34m\u001b[0m\u001b[0;34m\u001b[0m\u001b[0m\n",
            "\u001b[0;32m/usr/local/lib/python3.10/dist-packages/pandas/core/generic.py\u001b[0m in \u001b[0;36m_drop_axis\u001b[0;34m(self, labels, axis, level, errors, only_slice)\u001b[0m\n\u001b[1;32m   4544\u001b[0m                 \u001b[0mnew_axis\u001b[0m \u001b[0;34m=\u001b[0m \u001b[0maxis\u001b[0m\u001b[0;34m.\u001b[0m\u001b[0mdrop\u001b[0m\u001b[0;34m(\u001b[0m\u001b[0mlabels\u001b[0m\u001b[0;34m,\u001b[0m \u001b[0mlevel\u001b[0m\u001b[0;34m=\u001b[0m\u001b[0mlevel\u001b[0m\u001b[0;34m,\u001b[0m \u001b[0merrors\u001b[0m\u001b[0;34m=\u001b[0m\u001b[0merrors\u001b[0m\u001b[0;34m)\u001b[0m\u001b[0;34m\u001b[0m\u001b[0;34m\u001b[0m\u001b[0m\n\u001b[1;32m   4545\u001b[0m             \u001b[0;32melse\u001b[0m\u001b[0;34m:\u001b[0m\u001b[0;34m\u001b[0m\u001b[0;34m\u001b[0m\u001b[0m\n\u001b[0;32m-> 4546\u001b[0;31m                 \u001b[0mnew_axis\u001b[0m \u001b[0;34m=\u001b[0m \u001b[0maxis\u001b[0m\u001b[0;34m.\u001b[0m\u001b[0mdrop\u001b[0m\u001b[0;34m(\u001b[0m\u001b[0mlabels\u001b[0m\u001b[0;34m,\u001b[0m \u001b[0merrors\u001b[0m\u001b[0;34m=\u001b[0m\u001b[0merrors\u001b[0m\u001b[0;34m)\u001b[0m\u001b[0;34m\u001b[0m\u001b[0;34m\u001b[0m\u001b[0m\n\u001b[0m\u001b[1;32m   4547\u001b[0m             \u001b[0mindexer\u001b[0m \u001b[0;34m=\u001b[0m \u001b[0maxis\u001b[0m\u001b[0;34m.\u001b[0m\u001b[0mget_indexer\u001b[0m\u001b[0;34m(\u001b[0m\u001b[0mnew_axis\u001b[0m\u001b[0;34m)\u001b[0m\u001b[0;34m\u001b[0m\u001b[0;34m\u001b[0m\u001b[0m\n\u001b[1;32m   4548\u001b[0m \u001b[0;34m\u001b[0m\u001b[0m\n",
            "\u001b[0;32m/usr/local/lib/python3.10/dist-packages/pandas/core/indexes/base.py\u001b[0m in \u001b[0;36mdrop\u001b[0;34m(self, labels, errors)\u001b[0m\n\u001b[1;32m   6932\u001b[0m         \u001b[0;32mif\u001b[0m \u001b[0mmask\u001b[0m\u001b[0;34m.\u001b[0m\u001b[0many\u001b[0m\u001b[0;34m(\u001b[0m\u001b[0;34m)\u001b[0m\u001b[0;34m:\u001b[0m\u001b[0;34m\u001b[0m\u001b[0;34m\u001b[0m\u001b[0m\n\u001b[1;32m   6933\u001b[0m             \u001b[0;32mif\u001b[0m \u001b[0merrors\u001b[0m \u001b[0;34m!=\u001b[0m \u001b[0;34m\"ignore\"\u001b[0m\u001b[0;34m:\u001b[0m\u001b[0;34m\u001b[0m\u001b[0;34m\u001b[0m\u001b[0m\n\u001b[0;32m-> 6934\u001b[0;31m                 \u001b[0;32mraise\u001b[0m \u001b[0mKeyError\u001b[0m\u001b[0;34m(\u001b[0m\u001b[0;34mf\"{list(labels[mask])} not found in axis\"\u001b[0m\u001b[0;34m)\u001b[0m\u001b[0;34m\u001b[0m\u001b[0;34m\u001b[0m\u001b[0m\n\u001b[0m\u001b[1;32m   6935\u001b[0m             \u001b[0mindexer\u001b[0m \u001b[0;34m=\u001b[0m \u001b[0mindexer\u001b[0m\u001b[0;34m[\u001b[0m\u001b[0;34m~\u001b[0m\u001b[0mmask\u001b[0m\u001b[0;34m]\u001b[0m\u001b[0;34m\u001b[0m\u001b[0;34m\u001b[0m\u001b[0m\n\u001b[1;32m   6936\u001b[0m         \u001b[0;32mreturn\u001b[0m \u001b[0mself\u001b[0m\u001b[0;34m.\u001b[0m\u001b[0mdelete\u001b[0m\u001b[0;34m(\u001b[0m\u001b[0mindexer\u001b[0m\u001b[0;34m)\u001b[0m\u001b[0;34m\u001b[0m\u001b[0;34m\u001b[0m\u001b[0m\n",
            "\u001b[0;31mKeyError\u001b[0m: \"['Category'] not found in axis\""
          ]
        }
      ]
    },
    {
      "cell_type": "code",
      "source": [
        "#Correlation with output variable\n",
        "cor_target = abs(cor['Category'])\n",
        "#Selecting highly correlated features\n",
        "relevant_features = cor_target[cor_target>0.02]\n",
        "relevant_features"
      ],
      "metadata": {
        "colab": {
          "base_uri": "https://localhost:8080/",
          "height": 235
        },
        "id": "3qtv4VDxj-d_",
        "outputId": "dfa6214d-f5c9-4002-b4b9-309a530aa3ef"
      },
      "execution_count": null,
      "outputs": [
        {
          "output_type": "error",
          "ename": "NameError",
          "evalue": "ignored",
          "traceback": [
            "\u001b[0;31m---------------------------------------------------------------------------\u001b[0m",
            "\u001b[0;31mNameError\u001b[0m                                 Traceback (most recent call last)",
            "\u001b[0;32m<ipython-input-17-9cc2a33b7572>\u001b[0m in \u001b[0;36m<cell line: 2>\u001b[0;34m()\u001b[0m\n\u001b[1;32m      1\u001b[0m \u001b[0;31m#Correlation with output variable\u001b[0m\u001b[0;34m\u001b[0m\u001b[0;34m\u001b[0m\u001b[0m\n\u001b[0;32m----> 2\u001b[0;31m \u001b[0mcor_target\u001b[0m \u001b[0;34m=\u001b[0m \u001b[0mabs\u001b[0m\u001b[0;34m(\u001b[0m\u001b[0mcor\u001b[0m\u001b[0;34m[\u001b[0m\u001b[0;34m'Category'\u001b[0m\u001b[0;34m]\u001b[0m\u001b[0;34m)\u001b[0m\u001b[0;34m\u001b[0m\u001b[0;34m\u001b[0m\u001b[0m\n\u001b[0m\u001b[1;32m      3\u001b[0m \u001b[0;31m#Selecting highly correlated features\u001b[0m\u001b[0;34m\u001b[0m\u001b[0;34m\u001b[0m\u001b[0m\n\u001b[1;32m      4\u001b[0m \u001b[0mrelevant_features\u001b[0m \u001b[0;34m=\u001b[0m \u001b[0mcor_target\u001b[0m\u001b[0;34m[\u001b[0m\u001b[0mcor_target\u001b[0m\u001b[0;34m>\u001b[0m\u001b[0;36m0.02\u001b[0m\u001b[0;34m]\u001b[0m\u001b[0;34m\u001b[0m\u001b[0;34m\u001b[0m\u001b[0m\n\u001b[1;32m      5\u001b[0m \u001b[0mrelevant_features\u001b[0m\u001b[0;34m\u001b[0m\u001b[0;34m\u001b[0m\u001b[0m\n",
            "\u001b[0;31mNameError\u001b[0m: name 'cor' is not defined"
          ]
        }
      ]
    },
    {
      "cell_type": "code",
      "source": [
        "# At Current Point, the attributes is select manually based on Feature Selection Part.\n",
        "Features = [\"Address\",\"Year\",\"Hour\", \"Minute\" ]\n",
        "print('Full Features: ', Features)"
      ],
      "metadata": {
        "colab": {
          "base_uri": "https://localhost:8080/"
        },
        "id": "9gk1pfAqj-bm",
        "outputId": "ebdcb507-800d-4a1e-91d1-60ceed17044d"
      },
      "execution_count": null,
      "outputs": [
        {
          "output_type": "stream",
          "name": "stdout",
          "text": [
            "Full Features:  ['Address', 'Year', 'Hour', 'Minute']\n"
          ]
        }
      ]
    },
    {
      "cell_type": "code",
      "source": [
        "# 5. Split dataset to Training Set & Test Set\n",
        "x, y = train_test_split(df,\n",
        "                        test_size = 0.2,\n",
        "                        train_size = 0.8,\n",
        "                        random_state= 3)\n",
        "\n",
        "x1 = x[Features]    #Features to train\n",
        "x2 = x[Target]      #Target Class to train\n",
        "y1 = y[Features]    #Features to test\n",
        "y2 = y[Target]      #Target Class to test\n",
        "\n",
        "print('Feature Set Used    : ', Features)\n",
        "print('Target Class        : ', Target)\n",
        "print('Training Set Size   : ', x.shape)\n",
        "print('Test Set Size       : ', y.shape)"
      ],
      "metadata": {
        "colab": {
          "base_uri": "https://localhost:8080/"
        },
        "id": "A_3j5xnYj-ZZ",
        "outputId": "fd80cec9-2303-4171-94a9-9de123c199b2"
      },
      "execution_count": null,
      "outputs": [
        {
          "output_type": "stream",
          "name": "stdout",
          "text": [
            "Feature Set Used    :  ['Address', 'Year', 'Hour', 'Minute']\n",
            "Target Class        :  Category\n",
            "Training Set Size   :  (702439, 12)\n",
            "Test Set Size       :  (175610, 12)\n"
          ]
        }
      ]
    },
    {
      "cell_type": "code",
      "source": [
        "# 6. Random Forest\n",
        "# Create Model with configuration\n",
        "rf_model = RandomForestClassifier(n_estimators=70, # Number of trees\n",
        "                                  min_samples_split = 30,\n",
        "                                  bootstrap = True,\n",
        "                                  max_depth = 50,\n",
        "                                  min_samples_leaf = 25)\n",
        "\n",
        "# Model Training\n",
        "rf_model.fit(X=x1,\n",
        "             y=x2)\n",
        "\n",
        "# Prediction\n",
        "result = rf_model.predict(y[Features])"
      ],
      "metadata": {
        "id": "borOUpdSj-W-"
      },
      "execution_count": null,
      "outputs": []
    },
    {
      "cell_type": "code",
      "source": [
        "# Model Evaluation\n",
        "ac_sc = accuracy_score(y2, result)\n",
        "rc_sc = recall_score(y2, result, average=\"weighted\")\n",
        "pr_sc = precision_score(y2, result, average=\"weighted\")\n",
        "f1_sc = f1_score(y2, result, average='micro')\n",
        "confusion_m = confusion_matrix(y2, result)\n",
        "\n",
        "print(\"========== Random Forest Results ==========\")\n",
        "print(\"Accuracy    : \", ac_sc)\n",
        "print(\"Recall      : \", rc_sc)\n",
        "print(\"Precision   : \", pr_sc)\n",
        "print(\"F1 Score    : \", f1_sc)\n",
        "print(\"Confusion Matrix: \")\n",
        "print(confusion_m)"
      ],
      "metadata": {
        "colab": {
          "base_uri": "https://localhost:8080/"
        },
        "id": "5Wb8oU-Hj-Uf",
        "outputId": "9c4957b2-1b07-4e99-b9ec-489ef4ceb3e2"
      },
      "execution_count": null,
      "outputs": [
        {
          "output_type": "stream",
          "name": "stdout",
          "text": [
            "========== Random Forest Results ==========\n",
            "Accuracy    :  0.26574796423893854\n",
            "Recall      :  0.26574796423893854\n",
            "Precision   :  0.2168944607251306\n",
            "F1 Score    :  0.26574796423893854\n",
            "Confusion Matrix: \n",
            "[[   84  4687  2092 ...     0     0     0]\n",
            " [   87 13199  8038 ...     0     0     0]\n",
            " [   40  4967 25743 ...     0     0     0]\n",
            " ...\n",
            " [    0     1     0 ...     0     0     0]\n",
            " [    1   407   108 ...     0     0     0]\n",
            " [    0     3     1 ...     0     0     0]]\n"
          ]
        },
        {
          "output_type": "stream",
          "name": "stderr",
          "text": [
            "/usr/local/lib/python3.10/dist-packages/sklearn/metrics/_classification.py:1344: UndefinedMetricWarning: Precision is ill-defined and being set to 0.0 in labels with no predicted samples. Use `zero_division` parameter to control this behavior.\n",
            "  _warn_prf(average, modifier, msg_start, len(result))\n"
          ]
        }
      ]
    },
    {
      "cell_type": "code",
      "source": [
        "# 7. Neural Network\n",
        "# Create Model with configuration\n",
        "nn_model = MLPClassifier(solver='adam',\n",
        "                         alpha=1e-5,\n",
        "                         hidden_layer_sizes=(40,),\n",
        "                         random_state=1,\n",
        "                         max_iter=1000\n",
        "                        )\n",
        "\n",
        "# Model Training\n",
        "nn_model.fit(X=x1,\n",
        "             y=x2)\n",
        "\n",
        "# Prediction\n",
        "result = nn_model.predict(y[Features])"
      ],
      "metadata": {
        "id": "5yf5ZkJaj-Ru"
      },
      "execution_count": null,
      "outputs": []
    },
    {
      "cell_type": "code",
      "source": [
        "# Model Evaluation\n",
        "ac_sc = accuracy_score(y2, result)\n",
        "rc_sc = recall_score(y2, result, average=\"weighted\")\n",
        "pr_sc = precision_score(y2, result, average=\"weighted\")\n",
        "f1_sc = f1_score(y2, result, average='micro')\n",
        "confusion_m = confusion_matrix(y2, result)\n",
        "\n",
        "print(\"========== Neural Network Results ==========\")\n",
        "print(\"Accuracy    : \", ac_sc)\n",
        "print(\"Recall      : \", rc_sc)\n",
        "print(\"Precision   : \", pr_sc)\n",
        "print(\"F1 Score    : \", f1_sc)\n",
        "print(\"Confusion Matrix: \")\n",
        "print(confusion_m)"
      ],
      "metadata": {
        "colab": {
          "base_uri": "https://localhost:8080/"
        },
        "id": "pLiVjmwjj-NX",
        "outputId": "c94a07ba-1c70-4d2c-9d9a-41ab449ce58e"
      },
      "execution_count": null,
      "outputs": [
        {
          "output_type": "stream",
          "name": "stdout",
          "text": [
            "========== Neural Network Results ==========\n",
            "Accuracy    :  0.23474745173965036\n",
            "Recall      :  0.23474745173965036\n",
            "Precision   :  0.1613541680138178\n",
            "F1 Score    :  0.23474745173965036\n",
            "Confusion Matrix: \n",
            "[[    7  4782  2731 ...     0     0     0]\n",
            " [    7 13734  9462 ...     0     0     0]\n",
            " [    1  7934 25336 ...     0     0     0]\n",
            " ...\n",
            " [    0     1     0 ...     0     0     0]\n",
            " [    0   410   147 ...     0     0     0]\n",
            " [    0     2     4 ...     0     0     0]]\n"
          ]
        },
        {
          "output_type": "stream",
          "name": "stderr",
          "text": [
            "/usr/local/lib/python3.10/dist-packages/sklearn/metrics/_classification.py:1344: UndefinedMetricWarning: Precision is ill-defined and being set to 0.0 in labels with no predicted samples. Use `zero_division` parameter to control this behavior.\n",
            "  _warn_prf(average, modifier, msg_start, len(result))\n"
          ]
        }
      ]
    },
    {
      "cell_type": "code",
      "source": [
        "# 8. Naive Bayes\n",
        "# Create Model with configuration\n",
        "nb_model = GaussianNB()\n",
        "\n",
        "# Model Training\n",
        "nb_model.fit(X=x1,\n",
        "             y=x2)\n",
        "# Prediction\n",
        "result = nb_model.predict(y[Features])"
      ],
      "metadata": {
        "id": "CEQcQu4Kj-IG"
      },
      "execution_count": null,
      "outputs": []
    },
    {
      "cell_type": "code",
      "source": [
        "# Model Evaluation\n",
        "ac_sc = accuracy_score(y2, result)\n",
        "rc_sc = recall_score(y2, result, average=\"weighted\")\n",
        "pr_sc = precision_score(y2, result, average=\"weighted\")\n",
        "f1_sc = f1_score(y2, result, average='micro')\n",
        "confusion_m = confusion_matrix(y2, result)\n",
        "\n",
        "print(\"========== Naive Bayes Results ==========\")\n",
        "print(\"Accuracy    : \", ac_sc)\n",
        "print(\"Recall      : \", rc_sc)\n",
        "print(\"Precision   : \", pr_sc)\n",
        "print(\"F1 Score    : \", f1_sc)\n",
        "print(\"Confusion Matrix: \")\n",
        "print(confusion_m)"
      ],
      "metadata": {
        "colab": {
          "base_uri": "https://localhost:8080/"
        },
        "id": "DAHqX6MSkOHX",
        "outputId": "e0101e97-18a1-4a4d-d365-966d13c92bfb"
      },
      "execution_count": null,
      "outputs": [
        {
          "output_type": "stream",
          "name": "stdout",
          "text": [
            "========== Naive Bayes Results ==========\n",
            "Accuracy    :  0.22469677125448437\n",
            "Recall      :  0.22469677125448437\n",
            "Precision   :  0.15352202590157144\n",
            "F1 Score    :  0.22469677125448437\n",
            "Confusion Matrix: \n",
            "[[    0  3457  4572 ...     0     0     0]\n",
            " [    0  8811 14734 ...     0     0     0]\n",
            " [    0  3945 28290 ...     0     0     0]\n",
            " ...\n",
            " [    0     1     0 ...     0     0     0]\n",
            " [    0   298   247 ...     0     0     0]\n",
            " [    0     1     5 ...     0     0     0]]\n"
          ]
        },
        {
          "output_type": "stream",
          "name": "stderr",
          "text": [
            "/usr/local/lib/python3.10/dist-packages/sklearn/metrics/_classification.py:1344: UndefinedMetricWarning: Precision is ill-defined and being set to 0.0 in labels with no predicted samples. Use `zero_division` parameter to control this behavior.\n",
            "  _warn_prf(average, modifier, msg_start, len(result))\n"
          ]
        }
      ]
    },
    {
      "cell_type": "code",
      "source": [],
      "metadata": {
        "id": "IaVD9lLTlsrC"
      },
      "execution_count": null,
      "outputs": []
    }
  ]
}