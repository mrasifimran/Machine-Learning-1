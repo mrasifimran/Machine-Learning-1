{
  "nbformat": 4,
  "nbformat_minor": 0,
  "metadata": {
    "colab": {
      "provenance": [],
      "gpuType": "T4",
      "include_colab_link": true
    },
    "kernelspec": {
      "name": "python3",
      "display_name": "Python 3"
    },
    "language_info": {
      "name": "python"
    },
    "accelerator": "GPU"
  },
  "cells": [
    {
      "cell_type": "markdown",
      "metadata": {
        "id": "view-in-github",
        "colab_type": "text"
      },
      "source": [
        "<a href=\"https://colab.research.google.com/github/mrasifimran/Pythoncode/blob/main/DecisionTree21_06.ipynb\" target=\"_parent\"><img src=\"https://colab.research.google.com/assets/colab-badge.svg\" alt=\"Open In Colab\"/></a>"
      ]
    },
    {
      "cell_type": "code",
      "source": [
        "import pandas as pd\n",
        "import numpy as np\n",
        "\n",
        "from sklearn.model_selection import train_test_split"
      ],
      "metadata": {
        "id": "hRIYm3jWut-T"
      },
      "execution_count": null,
      "outputs": []
    },
    {
      "cell_type": "code",
      "source": [
        "# Load the dataset\n",
        "df = pd.read_csv(\"/content/creditcard.csv\")"
      ],
      "metadata": {
        "id": "-EHN5Ia2DIkB"
      },
      "execution_count": null,
      "outputs": []
    },
    {
      "cell_type": "code",
      "source": [
        "df.isnull().any()"
      ],
      "metadata": {
        "id": "5Af2Mrl3wKZ8"
      },
      "execution_count": null,
      "outputs": []
    },
    {
      "cell_type": "code",
      "source": [
        "df.dropna(inplace = True)"
      ],
      "metadata": {
        "id": "N2Hn_uf6wZF-"
      },
      "execution_count": null,
      "outputs": []
    },
    {
      "cell_type": "code",
      "source": [
        "# (Assuming the last column contains the target variable)\n",
        "X = df.iloc[:, :-1].values\n",
        "y = df.iloc[:, -1].values"
      ],
      "metadata": {
        "id": "JD7bu6ALwcdp"
      },
      "execution_count": null,
      "outputs": []
    },
    {
      "cell_type": "code",
      "source": [
        "# Split the dataset into training and testing sets\n",
        "X_train, X_test, y_train, y_test = train_test_split(X, y, test_size=0.2, random_state=42)\n"
      ],
      "metadata": {
        "id": "5svRAKL0wffI"
      },
      "execution_count": null,
      "outputs": []
    },
    {
      "cell_type": "code",
      "source": [
        "# Define the DecisionTreeClassifier with max_depth\n",
        "class Node:\n",
        "    def __init__(self, feature_index=None, threshold=None, value=None, left=None, right=None):\n",
        "        self.feature_index = feature_index\n",
        "        self.threshold = threshold\n",
        "        self.value = value\n",
        "        self.left = left\n",
        "        self.right = right"
      ],
      "metadata": {
        "id": "4wNbAysOwisc"
      },
      "execution_count": null,
      "outputs": []
    },
    {
      "cell_type": "code",
      "source": [
        "class DecisionTreeClassifier:\n",
        "    def __init__(self, max_depth=None):\n",
        "        self.max_depth = max_depth\n",
        "\n",
        "    def fit(self, X, y):\n",
        "        self.n_classes = len(set(y))\n",
        "        self.n_features = X.shape[1]\n",
        "        self.tree = self._build_tree(X, y)\n",
        "\n",
        "    def predict(self, X):\n",
        "        return [self._predict(x, self.tree) for x in X]\n",
        "\n",
        "    def _build_tree(self, X, y, depth=0):\n",
        "        n_samples, n_features = X.shape\n",
        "        n_labels = len(set(y))\n",
        "\n",
        "        # Stopping criteria\n",
        "        if depth == self.max_depth or n_labels == 1:\n",
        "            value = self._most_common_label(y)\n",
        "            return Node(value=value)\n",
        "\n",
        "        best_feature, best_threshold = self._best_split(X, y)\n",
        "        left_indices = X[:, best_feature] < best_threshold\n",
        "        right_indices = ~left_indices\n",
        "\n",
        "        # Split the data\n",
        "        left_X, left_y = X[left_indices], y[left_indices]\n",
        "        right_X, right_y = X[right_indices], y[right_indices]\n",
        "\n",
        "        # Recursive construction of the tree\n",
        "        left_node = self._build_tree(left_X, left_y, depth + 1)\n",
        "        right_node = self._build_tree(right_X, right_y, depth + 1)\n",
        "\n",
        "        return Node(feature_index=best_feature, threshold=best_threshold, left=left_node, right=right_node)\n",
        "\n",
        "    def _best_split(self, X, y):\n",
        "        best_gini = float('inf')\n",
        "        best_feature = None\n",
        "        best_threshold = None\n",
        "\n",
        "        for feature in range(self.n_features):\n",
        "            values = X[:, feature]\n",
        "            thresholds = np.unique(values)\n",
        "\n",
        "            for threshold in thresholds:\n",
        "                left_indices = values < threshold\n",
        "                right_indices = ~left_indices\n",
        "\n",
        "                gini = self._gini_index(y[left_indices]) * np.sum(left_indices) / len(y) + \\\n",
        "                       self._gini_index(y[right_indices]) * np.sum(right_indices) / len(y)\n",
        "\n",
        "                if gini < best_gini:\n",
        "                    best_gini = gini\n",
        "                    best_feature = feature\n",
        "                    best_threshold = threshold\n",
        "\n",
        "        return best_feature, best_threshold\n",
        "\n",
        "    def _gini_index(self, y):\n",
        "        if len(y) == 0:\n",
        "            return 0\n",
        "\n",
        "        proportions = np.array([np.sum(y == c) / len(y) for c in range(self.n_classes)])\n",
        "        gini = 1 - np.sum(proportions ** 2)\n",
        "\n",
        "        return gini\n",
        "\n",
        "    def _most_common_label(self, y):\n",
        "        labels, counts = np.unique(y, return_counts=True)\n",
        "        most_common_label = labels[np.argmax(counts)]\n",
        "        return most_common_label\n",
        "\n",
        "    def _predict(self, x, node):\n",
        "        if node.value is not None:\n",
        "            return node.value\n",
        "\n",
        "        if x[node.feature_index] < node.threshold:\n",
        "            return self._predict(x, node.left)\n",
        "        else:\n",
        "            return self._predict(x, node.right)"
      ],
      "metadata": {
        "id": "JutG9T9gwlkc"
      },
      "execution_count": null,
      "outputs": []
    },
    {
      "cell_type": "code",
      "source": [
        "# Instantiate and fit the decision tree classifier\n",
        "tree = DecisionTreeClassifier(max_depth=5)\n",
        "tree.fit(X_train, y_train)\n",
        "\n",
        "# Predict on the testing set\n",
        "y_pred = tree.predict(X_test)"
      ],
      "metadata": {
        "id": "OuU4KH3Tw9Iv"
      },
      "execution_count": null,
      "outputs": []
    },
    {
      "cell_type": "code",
      "source": [],
      "metadata": {
        "id": "dWPcruYFxJOs"
      },
      "execution_count": null,
      "outputs": []
    }
  ]
}